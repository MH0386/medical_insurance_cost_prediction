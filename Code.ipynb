{
 "cells": [
  {
   "cell_type": "markdown",
   "metadata": {},
   "source": [
    "<a href=\"https://www.kaggle.com/code/mh0386/medical-insurance-cost-prediction?scriptVersionId=120964541\" target=\"_blank\"><img align=\"left\" alt=\"Kaggle\" title=\"Open in Kaggle\" src=\"https://kaggle.com/static/images/open-in-kaggle.svg\"></a>"
   ]
  },
  {
   "cell_type": "code",
   "execution_count": 1,
   "id": "f14ecb15",
   "metadata": {
    "execution": {
     "iopub.execute_input": "2023-03-03T17:54:35.642342Z",
     "iopub.status.busy": "2023-03-03T17:54:35.641766Z",
     "iopub.status.idle": "2023-03-03T17:54:40.105897Z",
     "shell.execute_reply": "2023-03-03T17:54:40.104193Z"
    },
    "papermill": {
     "duration": 4.478767,
     "end_time": "2023-03-03T17:54:40.109934",
     "exception": false,
     "start_time": "2023-03-03T17:54:35.631167",
     "status": "completed"
    },
    "tags": []
   },
   "outputs": [
    {
     "ename": "ModuleNotFoundError",
     "evalue": "No module named 'pandas'",
     "output_type": "error",
     "traceback": [
      "\u001B[1;31m---------------------------------------------------------------------------\u001B[0m",
      "\u001B[1;31mModuleNotFoundError\u001B[0m                       Traceback (most recent call last)",
      "Cell \u001B[1;32mIn[1], line 1\u001B[0m\n\u001B[1;32m----> 1\u001B[0m \u001B[38;5;28;01mimport\u001B[39;00m \u001B[38;5;21;01mpandas\u001B[39;00m \u001B[38;5;28;01mas\u001B[39;00m \u001B[38;5;21;01mpd\u001B[39;00m\n\u001B[0;32m      2\u001B[0m \u001B[38;5;28;01mimport\u001B[39;00m \u001B[38;5;21;01mnumpy\u001B[39;00m \u001B[38;5;28;01mas\u001B[39;00m \u001B[38;5;21;01mnp\u001B[39;00m\n\u001B[0;32m      3\u001B[0m \u001B[38;5;28;01mimport\u001B[39;00m \u001B[38;5;21;01mseaborn\u001B[39;00m \u001B[38;5;28;01mas\u001B[39;00m \u001B[38;5;21;01msns\u001B[39;00m\n",
      "\u001B[1;31mModuleNotFoundError\u001B[0m: No module named 'pandas'"
     ]
    }
   ],
   "source": [
    "import pandas as pd\n",
    "import numpy as np\n",
    "import seaborn as sns\n",
    "import matplotlib.pyplot as plt\n",
    "from sklearn import preprocessing\n",
    "\n",
    "le = preprocessing.LabelEncoder()\n",
    "from sklearn.model_selection import train_test_split\n",
    "from sklearn.preprocessing import RobustScaler\n",
    "from sklearn import linear_model\n",
    "from sklearn.metrics import r2_score, mean_absolute_error, mean_absolute_percentage_error, mean_squared_error\n",
    "import statsmodels.api as sm"
   ]
  },
  {
   "cell_type": "markdown",
   "id": "83c62e6f",
   "metadata": {
    "papermill": {
     "duration": 0.006177,
     "end_time": "2023-03-03T17:54:40.122941",
     "exception": false,
     "start_time": "2023-03-03T17:54:40.116764",
     "status": "completed"
    },
    "tags": []
   },
   "source": [
    "# The Data"
   ]
  },
  {
   "cell_type": "code",
   "execution_count": 5,
   "id": "1d4c5c88",
   "metadata": {
    "execution": {
     "iopub.execute_input": "2023-03-03T17:54:40.139717Z",
     "iopub.status.busy": "2023-03-03T17:54:40.139163Z",
     "iopub.status.idle": "2023-03-03T17:54:40.204361Z",
     "shell.execute_reply": "2023-03-03T17:54:40.202731Z"
    },
    "papermill": {
     "duration": 0.078569,
     "end_time": "2023-03-03T17:54:40.208492",
     "exception": false,
     "start_time": "2023-03-03T17:54:40.129923",
     "status": "completed"
    },
    "tags": []
   },
   "outputs": [
    {
     "data": {
      "text/html": [
       "<div>\n",
       "<style scoped>\n",
       "    .dataframe tbody tr th:only-of-type {\n",
       "        vertical-align: middle;\n",
       "    }\n",
       "\n",
       "    .dataframe tbody tr th {\n",
       "        vertical-align: top;\n",
       "    }\n",
       "\n",
       "    .dataframe thead th {\n",
       "        text-align: right;\n",
       "    }\n",
       "</style>\n",
       "<table border=\"1\" class=\"dataframe\">\n",
       "  <thead>\n",
       "    <tr style=\"text-align: right;\">\n",
       "      <th></th>\n",
       "      <th>age</th>\n",
       "      <th>sex</th>\n",
       "      <th>bmi</th>\n",
       "      <th>children</th>\n",
       "      <th>smoker</th>\n",
       "      <th>region</th>\n",
       "      <th>charges</th>\n",
       "    </tr>\n",
       "  </thead>\n",
       "  <tbody>\n",
       "    <tr>\n",
       "      <th>0</th>\n",
       "      <td>19</td>\n",
       "      <td>female</td>\n",
       "      <td>27.900</td>\n",
       "      <td>0</td>\n",
       "      <td>yes</td>\n",
       "      <td>southwest</td>\n",
       "      <td>16884.92400</td>\n",
       "    </tr>\n",
       "    <tr>\n",
       "      <th>1</th>\n",
       "      <td>18</td>\n",
       "      <td>male</td>\n",
       "      <td>33.770</td>\n",
       "      <td>1</td>\n",
       "      <td>no</td>\n",
       "      <td>southeast</td>\n",
       "      <td>1725.55230</td>\n",
       "    </tr>\n",
       "    <tr>\n",
       "      <th>2</th>\n",
       "      <td>28</td>\n",
       "      <td>male</td>\n",
       "      <td>33.000</td>\n",
       "      <td>3</td>\n",
       "      <td>no</td>\n",
       "      <td>southeast</td>\n",
       "      <td>4449.46200</td>\n",
       "    </tr>\n",
       "    <tr>\n",
       "      <th>3</th>\n",
       "      <td>33</td>\n",
       "      <td>male</td>\n",
       "      <td>22.705</td>\n",
       "      <td>0</td>\n",
       "      <td>no</td>\n",
       "      <td>northwest</td>\n",
       "      <td>21984.47061</td>\n",
       "    </tr>\n",
       "    <tr>\n",
       "      <th>4</th>\n",
       "      <td>32</td>\n",
       "      <td>male</td>\n",
       "      <td>28.880</td>\n",
       "      <td>0</td>\n",
       "      <td>no</td>\n",
       "      <td>northwest</td>\n",
       "      <td>3866.85520</td>\n",
       "    </tr>\n",
       "    <tr>\n",
       "      <th>...</th>\n",
       "      <td>...</td>\n",
       "      <td>...</td>\n",
       "      <td>...</td>\n",
       "      <td>...</td>\n",
       "      <td>...</td>\n",
       "      <td>...</td>\n",
       "      <td>...</td>\n",
       "    </tr>\n",
       "    <tr>\n",
       "      <th>1333</th>\n",
       "      <td>50</td>\n",
       "      <td>male</td>\n",
       "      <td>30.970</td>\n",
       "      <td>3</td>\n",
       "      <td>no</td>\n",
       "      <td>northwest</td>\n",
       "      <td>10600.54830</td>\n",
       "    </tr>\n",
       "    <tr>\n",
       "      <th>1334</th>\n",
       "      <td>18</td>\n",
       "      <td>female</td>\n",
       "      <td>31.920</td>\n",
       "      <td>0</td>\n",
       "      <td>no</td>\n",
       "      <td>northeast</td>\n",
       "      <td>2205.98080</td>\n",
       "    </tr>\n",
       "    <tr>\n",
       "      <th>1335</th>\n",
       "      <td>18</td>\n",
       "      <td>female</td>\n",
       "      <td>36.850</td>\n",
       "      <td>0</td>\n",
       "      <td>no</td>\n",
       "      <td>southeast</td>\n",
       "      <td>1629.83350</td>\n",
       "    </tr>\n",
       "    <tr>\n",
       "      <th>1336</th>\n",
       "      <td>21</td>\n",
       "      <td>female</td>\n",
       "      <td>25.800</td>\n",
       "      <td>0</td>\n",
       "      <td>no</td>\n",
       "      <td>southwest</td>\n",
       "      <td>2007.94500</td>\n",
       "    </tr>\n",
       "    <tr>\n",
       "      <th>1337</th>\n",
       "      <td>61</td>\n",
       "      <td>female</td>\n",
       "      <td>29.070</td>\n",
       "      <td>0</td>\n",
       "      <td>yes</td>\n",
       "      <td>northwest</td>\n",
       "      <td>29141.36030</td>\n",
       "    </tr>\n",
       "  </tbody>\n",
       "</table>\n",
       "<p>1338 rows × 7 columns</p>\n",
       "</div>"
      ],
      "text/plain": [
       "      age     sex     bmi  children smoker     region      charges\n",
       "0      19  female  27.900         0    yes  southwest  16884.92400\n",
       "1      18    male  33.770         1     no  southeast   1725.55230\n",
       "2      28    male  33.000         3     no  southeast   4449.46200\n",
       "3      33    male  22.705         0     no  northwest  21984.47061\n",
       "4      32    male  28.880         0     no  northwest   3866.85520\n",
       "...   ...     ...     ...       ...    ...        ...          ...\n",
       "1333   50    male  30.970         3     no  northwest  10600.54830\n",
       "1334   18  female  31.920         0     no  northeast   2205.98080\n",
       "1335   18  female  36.850         0     no  southeast   1629.83350\n",
       "1336   21  female  25.800         0     no  southwest   2007.94500\n",
       "1337   61  female  29.070         0    yes  northwest  29141.36030\n",
       "\n",
       "[1338 rows x 7 columns]"
      ]
     },
     "execution_count": 5,
     "metadata": {},
     "output_type": "execute_result"
    }
   ],
   "source": [
    "data = pd.read_csv('/kaggle/input/insurance/insurance.csv')\n",
    "data"
   ]
  },
  {
   "cell_type": "markdown",
   "id": "66afa18c",
   "metadata": {
    "papermill": {
     "duration": 0.006559,
     "end_time": "2023-03-03T17:54:40.223651",
     "exception": false,
     "start_time": "2023-03-03T17:54:40.217092",
     "status": "completed"
    },
    "tags": []
   },
   "source": [
    "# Null Values"
   ]
  },
  {
   "cell_type": "code",
   "execution_count": null,
   "id": "8f768480",
   "metadata": {
    "execution": {
     "iopub.execute_input": "2023-03-03T17:54:40.24141Z",
     "iopub.status.busy": "2023-03-03T17:54:40.24044Z",
     "iopub.status.idle": "2023-03-03T17:54:40.253083Z",
     "shell.execute_reply": "2023-03-03T17:54:40.251571Z"
    },
    "papermill": {
     "duration": 0.025916,
     "end_time": "2023-03-03T17:54:40.256474",
     "exception": false,
     "start_time": "2023-03-03T17:54:40.230558",
     "status": "completed"
    },
    "tags": []
   },
   "outputs": [],
   "source": [
    "data.isnull().sum()"
   ]
  },
  {
   "cell_type": "code",
   "execution_count": null,
   "id": "f37494d4",
   "metadata": {
    "execution": {
     "iopub.execute_input": "2023-03-03T17:54:40.273464Z",
     "iopub.status.busy": "2023-03-03T17:54:40.272962Z",
     "iopub.status.idle": "2023-03-03T17:54:40.319299Z",
     "shell.execute_reply": "2023-03-03T17:54:40.317351Z"
    },
    "papermill": {
     "duration": 0.059265,
     "end_time": "2023-03-03T17:54:40.32301",
     "exception": false,
     "start_time": "2023-03-03T17:54:40.263745",
     "status": "completed"
    },
    "tags": []
   },
   "outputs": [],
   "source": [
    "data.describe()"
   ]
  },
  {
   "cell_type": "code",
   "execution_count": null,
   "id": "94732fed",
   "metadata": {
    "execution": {
     "iopub.execute_input": "2023-03-03T17:54:40.341455Z",
     "iopub.status.busy": "2023-03-03T17:54:40.340954Z",
     "iopub.status.idle": "2023-03-03T17:54:42.58827Z",
     "shell.execute_reply": "2023-03-03T17:54:42.585982Z"
    },
    "papermill": {
     "duration": 2.261126,
     "end_time": "2023-03-03T17:54:42.59195",
     "exception": false,
     "start_time": "2023-03-03T17:54:40.330824",
     "status": "completed"
    },
    "tags": []
   },
   "outputs": [],
   "source": [
    "for col in data.columns:\n",
    "    fig, ax = plt.subplots()\n",
    "    plt.title(f'{col} histogram')\n",
    "    sns.histplot(data=data, x=col, ax=ax)\n",
    "    plt.show()"
   ]
  },
  {
   "cell_type": "code",
   "execution_count": null,
   "id": "797b0940",
   "metadata": {
    "execution": {
     "iopub.execute_input": "2023-03-03T17:54:42.617282Z",
     "iopub.status.busy": "2023-03-03T17:54:42.616666Z",
     "iopub.status.idle": "2023-03-03T17:54:42.646316Z",
     "shell.execute_reply": "2023-03-03T17:54:42.644765Z"
    },
    "papermill": {
     "duration": 0.046725,
     "end_time": "2023-03-03T17:54:42.650486",
     "exception": false,
     "start_time": "2023-03-03T17:54:42.603761",
     "status": "completed"
    },
    "tags": []
   },
   "outputs": [],
   "source": [
    "data.smoker = le.fit_transform(data.smoker)\n",
    "data.sex = le.fit_transform(data.sex)\n",
    "data.region = le.fit_transform(data.region)\n",
    "data"
   ]
  },
  {
   "cell_type": "code",
   "execution_count": null,
   "id": "3e4e1e23",
   "metadata": {
    "execution": {
     "iopub.execute_input": "2023-03-03T17:54:42.674505Z",
     "iopub.status.busy": "2023-03-03T17:54:42.67399Z",
     "iopub.status.idle": "2023-03-03T17:54:42.703475Z",
     "shell.execute_reply": "2023-03-03T17:54:42.701204Z"
    },
    "papermill": {
     "duration": 0.046659,
     "end_time": "2023-03-03T17:54:42.708086",
     "exception": false,
     "start_time": "2023-03-03T17:54:42.661427",
     "status": "completed"
    },
    "tags": []
   },
   "outputs": [],
   "source": [
    "data.info()"
   ]
  },
  {
   "cell_type": "markdown",
   "id": "8c2ee483",
   "metadata": {
    "papermill": {
     "duration": 0.011068,
     "end_time": "2023-03-03T17:54:42.73247",
     "exception": false,
     "start_time": "2023-03-03T17:54:42.721402",
     "status": "completed"
    },
    "tags": []
   },
   "source": [
    "# Split the data to train and test data"
   ]
  },
  {
   "cell_type": "code",
   "execution_count": null,
   "id": "d4a5593c",
   "metadata": {
    "execution": {
     "iopub.execute_input": "2023-03-03T17:54:42.757532Z",
     "iopub.status.busy": "2023-03-03T17:54:42.757037Z",
     "iopub.status.idle": "2023-03-03T17:54:42.772202Z",
     "shell.execute_reply": "2023-03-03T17:54:42.770006Z"
    },
    "papermill": {
     "duration": 0.03168,
     "end_time": "2023-03-03T17:54:42.775568",
     "exception": false,
     "start_time": "2023-03-03T17:54:42.743888",
     "status": "completed"
    },
    "tags": []
   },
   "outputs": [],
   "source": [
    "Y = data.charges\n",
    "data.drop('charges', axis=1, inplace=True)\n",
    "X = np.asarray(data)\n",
    "X_Train, X_Test, Y_Train, Y_Test = train_test_split(X, Y, test_size=0.20, random_state=42)"
   ]
  },
  {
   "cell_type": "markdown",
   "id": "0898b425",
   "metadata": {
    "papermill": {
     "duration": 0.010168,
     "end_time": "2023-03-03T17:54:42.7963",
     "exception": false,
     "start_time": "2023-03-03T17:54:42.786132",
     "status": "completed"
    },
    "tags": []
   },
   "source": [
    "# Perform Data Scaling using Robust Scaler"
   ]
  },
  {
   "cell_type": "code",
   "execution_count": null,
   "id": "9c33cba4",
   "metadata": {
    "execution": {
     "iopub.execute_input": "2023-03-03T17:54:42.820031Z",
     "iopub.status.busy": "2023-03-03T17:54:42.81943Z",
     "iopub.status.idle": "2023-03-03T17:54:42.832394Z",
     "shell.execute_reply": "2023-03-03T17:54:42.831176Z"
    },
    "papermill": {
     "duration": 0.028139,
     "end_time": "2023-03-03T17:54:42.835449",
     "exception": false,
     "start_time": "2023-03-03T17:54:42.80731",
     "status": "completed"
    },
    "tags": []
   },
   "outputs": [],
   "source": [
    "rs = RobustScaler()\n",
    "X_Train = rs.fit_transform(X_Train)\n",
    "X_Test = rs.fit_transform(X_Test)"
   ]
  },
  {
   "cell_type": "markdown",
   "id": "d61784bc",
   "metadata": {
    "papermill": {
     "duration": 0.011392,
     "end_time": "2023-03-03T17:54:42.857484",
     "exception": false,
     "start_time": "2023-03-03T17:54:42.846092",
     "status": "completed"
    },
    "tags": []
   },
   "source": [
    "# Linear Regression Model"
   ]
  },
  {
   "cell_type": "code",
   "execution_count": null,
   "id": "6a0e2133",
   "metadata": {
    "execution": {
     "iopub.execute_input": "2023-03-03T17:54:42.882551Z",
     "iopub.status.busy": "2023-03-03T17:54:42.882003Z",
     "iopub.status.idle": "2023-03-03T17:54:42.914702Z",
     "shell.execute_reply": "2023-03-03T17:54:42.913188Z"
    },
    "papermill": {
     "duration": 0.049276,
     "end_time": "2023-03-03T17:54:42.917798",
     "exception": false,
     "start_time": "2023-03-03T17:54:42.868522",
     "status": "completed"
    },
    "tags": []
   },
   "outputs": [],
   "source": [
    "Model = linear_model.LinearRegression()\n",
    "Model.fit(X_Train, Y_Train)"
   ]
  },
  {
   "cell_type": "code",
   "execution_count": null,
   "id": "51839d04",
   "metadata": {
    "execution": {
     "iopub.execute_input": "2023-03-03T17:54:42.942101Z",
     "iopub.status.busy": "2023-03-03T17:54:42.941275Z",
     "iopub.status.idle": "2023-03-03T17:54:42.951586Z",
     "shell.execute_reply": "2023-03-03T17:54:42.949961Z"
    },
    "papermill": {
     "duration": 0.026405,
     "end_time": "2023-03-03T17:54:42.955063",
     "exception": false,
     "start_time": "2023-03-03T17:54:42.928658",
     "status": "completed"
    },
    "tags": []
   },
   "outputs": [],
   "source": [
    "Model.score(X_Train, Y_Train)"
   ]
  },
  {
   "cell_type": "code",
   "execution_count": null,
   "id": "1312e6df",
   "metadata": {
    "execution": {
     "iopub.execute_input": "2023-03-03T17:54:42.989348Z",
     "iopub.status.busy": "2023-03-03T17:54:42.988571Z",
     "iopub.status.idle": "2023-03-03T17:54:42.99703Z",
     "shell.execute_reply": "2023-03-03T17:54:42.99581Z"
    },
    "papermill": {
     "duration": 0.025939,
     "end_time": "2023-03-03T17:54:42.999908",
     "exception": false,
     "start_time": "2023-03-03T17:54:42.973969",
     "status": "completed"
    },
    "tags": []
   },
   "outputs": [],
   "source": [
    "Model.score(X_Test, Y_Test)"
   ]
  },
  {
   "cell_type": "code",
   "execution_count": null,
   "id": "2ad0fa28",
   "metadata": {
    "execution": {
     "iopub.execute_input": "2023-03-03T17:54:43.026219Z",
     "iopub.status.busy": "2023-03-03T17:54:43.024753Z",
     "iopub.status.idle": "2023-03-03T17:54:43.04074Z",
     "shell.execute_reply": "2023-03-03T17:54:43.039455Z"
    },
    "papermill": {
     "duration": 0.03179,
     "end_time": "2023-03-03T17:54:43.043795",
     "exception": false,
     "start_time": "2023-03-03T17:54:43.012005",
     "status": "completed"
    },
    "tags": []
   },
   "outputs": [],
   "source": [
    "Y_Pred = Model.predict(X_Test)\n",
    "Y_Test_Pred = pd.DataFrame({\"Y_Test\": Y_Test, \"Y_Pred\": Y_Pred})\n",
    "Y_Test_Pred.head()"
   ]
  },
  {
   "cell_type": "code",
   "execution_count": null,
   "id": "30de98e8",
   "metadata": {
    "execution": {
     "iopub.execute_input": "2023-03-03T17:54:43.069532Z",
     "iopub.status.busy": "2023-03-03T17:54:43.069019Z",
     "iopub.status.idle": "2023-03-03T17:54:43.077469Z",
     "shell.execute_reply": "2023-03-03T17:54:43.076211Z"
    },
    "papermill": {
     "duration": 0.024283,
     "end_time": "2023-03-03T17:54:43.080352",
     "exception": false,
     "start_time": "2023-03-03T17:54:43.056069",
     "status": "completed"
    },
    "tags": []
   },
   "outputs": [],
   "source": [
    "Y_Test_Pred = Y_Test_Pred.reset_index()"
   ]
  },
  {
   "cell_type": "code",
   "execution_count": null,
   "id": "bedd8487",
   "metadata": {
    "execution": {
     "iopub.execute_input": "2023-03-03T17:54:43.105534Z",
     "iopub.status.busy": "2023-03-03T17:54:43.104067Z",
     "iopub.status.idle": "2023-03-03T17:54:43.537667Z",
     "shell.execute_reply": "2023-03-03T17:54:43.535481Z"
    },
    "papermill": {
     "duration": 0.450889,
     "end_time": "2023-03-03T17:54:43.542139",
     "exception": false,
     "start_time": "2023-03-03T17:54:43.09125",
     "status": "completed"
    },
    "tags": []
   },
   "outputs": [],
   "source": [
    "plt.figure(figsize=(15, 8))\n",
    "Y_Test_Pred = Y_Test_Pred.drop([\"index\"], axis=1)\n",
    "plt.plot(Y_Test_Pred)\n",
    "plt.legend([\"Actual\", \"Predicted\"])"
   ]
  },
  {
   "cell_type": "code",
   "execution_count": null,
   "id": "4d8751a5",
   "metadata": {
    "execution": {
     "iopub.execute_input": "2023-03-03T17:54:43.575027Z",
     "iopub.status.busy": "2023-03-03T17:54:43.574501Z",
     "iopub.status.idle": "2023-03-03T17:54:43.585462Z",
     "shell.execute_reply": "2023-03-03T17:54:43.583454Z"
    },
    "papermill": {
     "duration": 0.031345,
     "end_time": "2023-03-03T17:54:43.588757",
     "exception": false,
     "start_time": "2023-03-03T17:54:43.557412",
     "status": "completed"
    },
    "tags": []
   },
   "outputs": [],
   "source": [
    "reg_score = r2_score(Y_Test, Y_Pred)\n",
    "reg_score"
   ]
  },
  {
   "cell_type": "code",
   "execution_count": null,
   "id": "fd2127d4",
   "metadata": {
    "execution": {
     "iopub.execute_input": "2023-03-03T17:54:43.62319Z",
     "iopub.status.busy": "2023-03-03T17:54:43.622636Z",
     "iopub.status.idle": "2023-03-03T17:54:43.635725Z",
     "shell.execute_reply": "2023-03-03T17:54:43.634499Z"
    },
    "papermill": {
     "duration": 0.033239,
     "end_time": "2023-03-03T17:54:43.638898",
     "exception": false,
     "start_time": "2023-03-03T17:54:43.605659",
     "status": "completed"
    },
    "tags": []
   },
   "outputs": [],
   "source": [
    "mse = mean_squared_error(Y_Test, Y_Pred)\n",
    "print(\"mse: \", mse)\n",
    "mape = mean_absolute_percentage_error(Y_Test, Y_Pred)\n",
    "print(\"mape: \", mape)\n",
    "mae = mean_absolute_error(Y_Test, Y_Pred)\n",
    "print(\"mae: \", mae)\n",
    "reg_mse = mean_squared_error(Y_Test, Y_Pred)\n",
    "reg_rmse = np.sqrt(reg_mse)\n",
    "print(\"reg_mse: \", reg_rmse)"
   ]
  },
  {
   "cell_type": "code",
   "execution_count": null,
   "id": "1c4265bb",
   "metadata": {
    "execution": {
     "iopub.execute_input": "2023-03-03T17:54:43.670885Z",
     "iopub.status.busy": "2023-03-03T17:54:43.669788Z",
     "iopub.status.idle": "2023-03-03T17:54:43.68067Z",
     "shell.execute_reply": "2023-03-03T17:54:43.678861Z"
    },
    "papermill": {
     "duration": 0.030769,
     "end_time": "2023-03-03T17:54:43.684419",
     "exception": false,
     "start_time": "2023-03-03T17:54:43.65365",
     "status": "completed"
    },
    "tags": []
   },
   "outputs": [],
   "source": [
    "X2 = sm.add_constant(X_Train)\n",
    "est = sm.OLS(Y_Train, X2)\n",
    "est2 = est.fit()"
   ]
  },
  {
   "cell_type": "code",
   "execution_count": null,
   "id": "c65621d3",
   "metadata": {
    "execution": {
     "iopub.execute_input": "2023-03-03T17:54:43.717129Z",
     "iopub.status.busy": "2023-03-03T17:54:43.716028Z",
     "iopub.status.idle": "2023-03-03T17:54:43.746183Z",
     "shell.execute_reply": "2023-03-03T17:54:43.743767Z"
    },
    "papermill": {
     "duration": 0.050525,
     "end_time": "2023-03-03T17:54:43.74979",
     "exception": false,
     "start_time": "2023-03-03T17:54:43.699265",
     "status": "completed"
    },
    "tags": []
   },
   "outputs": [],
   "source": [
    "est2.summary()"
   ]
  }
 ],
 "metadata": {
  "kernelspec": {
   "display_name": "Python 3",
   "language": "python",
   "name": "python3"
  },
  "language_info": {
   "codemirror_mode": {
    "name": "ipython",
    "version": 3
   },
   "file_extension": ".py",
   "mimetype": "text/x-python",
   "name": "python",
   "nbconvert_exporter": "python",
   "pygments_lexer": "ipython3",
   "version": "3.10.10"
  },
  "papermill": {
   "default_parameters": {},
   "duration": 24.919031,
   "end_time": "2023-03-03T17:54:45.096423",
   "environment_variables": {},
   "exception": null,
   "input_path": "__notebook__.ipynb",
   "output_path": "__notebook__.ipynb",
   "parameters": {},
   "start_time": "2023-03-03T17:54:20.177392",
   "version": "2.4.0"
  }
 },
 "nbformat": 4,
 "nbformat_minor": 5
}
